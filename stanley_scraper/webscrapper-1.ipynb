{
 "cells": [
  {
   "cell_type": "markdown",
   "metadata": {},
   "source": [
    "# Stanley Cup Scraper Project "
   ]
  },
  {
   "cell_type": "code",
   "execution_count": 2,
   "metadata": {},
   "outputs": [],
   "source": [
    "# import libraries\n",
    "\n",
    "from bs4 import BeautifulSoup\n",
    "import requests\n",
    "import time\n",
    "import datetime\n",
    "\n",
    "import smtplib"
   ]
  },
  {
   "cell_type": "code",
   "execution_count": 19,
   "metadata": {},
   "outputs": [
    {
     "name": "stdout",
     "output_type": "stream",
     "text": [
      "\n",
      "             Stanley Quencher H2.0 FlowState Stainless Steel Vacuum Insulated Tumbler with Lid and Straw for Water, Iced Tea or Coffee\n",
      "            \n",
      "\n",
      "                 $45.00\n",
      "                \n"
     ]
    }
   ],
   "source": [
    "# Connect to website\n",
    "URL = 'https://www.amazon.com/Stanley-Quencher-FlowState-Stainless-Insulated/dp/B0BQZ9K23L?crid=2XS85DJUBR8XM&dib=eyJ2IjoiMSJ9.d0U80LhwsErfkbGem3Q1D5mSjh5_cXSCPUvqfz4VPMdhFhhqLShWjOPmo40mwhqT92S0fRY8z_KvJLClrg9jfAiNH_6FteRiJmNQkD0NUzNrRtOUWjJDasFX--63tfl7H3gJ51ZAwJ75sAtNLgomaw.WwFlEJ-Lyt4UDMvE3C663qkyFQEj1U1RS1UIii3MEfo&dib_tag=se&keywords=stanley+40+oz+tumbler+with+handle&qid=1705188258&s=home-garden&sprefix=stanle,garden,93&sr=1-2&th=1'\n",
    "\n",
    "headers = {\"User-Agent\": \"Mozilla/5.0 (Macintosh; Intel Mac OS X 10_15_7) AppleWebKit/537.36 (KHTML, like Gecko) Chrome/120.0.0.0 Safari/537.36\", \"Accept-Encoding\":\"gzip, deflate\", \"Accept\":\"text/html,application/xhtml+xml,application/xml;q=0.9,*/*;q=0.8\", \"DNT\":\"1\",\"Connection\":\"close\", \"Upgrade-Insecure-Requests\":\"1\"}\n",
    "\n",
    "page = requests.get(URL, headers=headers)\n",
    "\n",
    "soup1 = BeautifulSoup(page.content, \"html.parser\")\n",
    "\n",
    "soup2 = BeautifulSoup(soup1.prettify(), \"html.parser\")\n",
    "   \n",
    "#Fetching the title of the product                   \n",
    "title = soup2.find(id='productTitle').get_text()\n",
    "\n",
    "#Fetching the price of the product\n",
    "price = soup2.find(class_='aok-offscreen').get_text()\n",
    "\n",
    "print(title)\n",
    "print(price)"
   ]
  },
  {
   "cell_type": "code",
   "execution_count": 20,
   "metadata": {},
   "outputs": [
    {
     "name": "stdout",
     "output_type": "stream",
     "text": [
      "Stanley Quencher H2.0 FlowState Stainless Steel Vacuum Insulated Tumbler with Lid and Straw for Water, Iced Tea or Coffee\n",
      "45.00\n"
     ]
    }
   ],
   "source": [
    "# Deleting all the extra spaces, indents, and symbols \n",
    "price = price.strip()[1:]\n",
    "title = title.strip()\n",
    "\n",
    "print(title)\n",
    "print(price)"
   ]
  },
  {
   "cell_type": "code",
   "execution_count": 25,
   "metadata": {},
   "outputs": [
    {
     "name": "stdout",
     "output_type": "stream",
     "text": [
      "2024-01-13\n"
     ]
    }
   ],
   "source": [
    "#Getting the date\n",
    "\n",
    "today = datetime.date.today()\n",
    "print(today)"
   ]
  },
  {
   "cell_type": "code",
   "execution_count": 26,
   "metadata": {},
   "outputs": [],
   "source": [
    "# Creating your csv\n",
    "\n",
    "import csv\n",
    "\n",
    "# Name of the columns\n",
    "header = ['Title', 'Price','Date']\n",
    "\n",
    "#Rows of the dataset\n",
    "data = [title,price,today]\n",
    "\n",
    "#Checking our data type to ensure it is a list\n",
    "type(data)\n",
    "\n",
    "#Creating the csv file with the column names and rows of data\n",
    "with open('Stanley_Amazon_Dataset.csv', 'w', newline='', encoding='UTF8') as f:\n",
    "    writer = csv.writer(f)\n",
    "    writer.writerow(header)\n",
    "    writer.writerow(data)\n"
   ]
  },
  {
   "cell_type": "code",
   "execution_count": 30,
   "metadata": {},
   "outputs": [
    {
     "name": "stdout",
     "output_type": "stream",
     "text": [
      "                                               Title  Price        Date\n",
      "0  Stanley Quencher H2.0 FlowState Stainless Stee...   45.0  2024-01-13\n"
     ]
    }
   ],
   "source": [
    "# Look at the newly generated dataset\n",
    "\n",
    "import pandas as pd\n",
    "df = pd.read_csv(r'/Users/pratik/Desktop/Projects/python_web_scraper/stanley_scraper/Stanley_Amazon_Dataset.csv')\n",
    "print(df)"
   ]
  },
  {
   "cell_type": "code",
   "execution_count": null,
   "metadata": {},
   "outputs": [],
   "source": [
    "# Now we are appending data to the csv\n",
    "\n",
    "with open('Stanley_Amazon_Dataset.csv', 'a+', newline='', encoding='UTF8') as f:\n",
    "    writer = csv.writer(f)\n",
    "    writer.writerow(data)\n"
   ]
  },
  {
   "cell_type": "code",
   "execution_count": 31,
   "metadata": {},
   "outputs": [],
   "source": [
    "# Create a function to automate the process above\n",
    "\n",
    "def check_price(): \n",
    "    URL = 'https://www.amazon.com/Stanley-Quencher-FlowState-Stainless-Insulated/dp/B0BQZ9K23L?crid=2XS85DJUBR8XM&dib=eyJ2IjoiMSJ9.d0U80LhwsErfkbGem3Q1D5mSjh5_cXSCPUvqfz4VPMdhFhhqLShWjOPmo40mwhqT92S0fRY8z_KvJLClrg9jfAiNH_6FteRiJmNQkD0NUzNrRtOUWjJDasFX--63tfl7H3gJ51ZAwJ75sAtNLgomaw.WwFlEJ-Lyt4UDMvE3C663qkyFQEj1U1RS1UIii3MEfo&dib_tag=se&keywords=stanley+40+oz+tumbler+with+handle&qid=1705188258&s=home-garden&sprefix=stanle,garden,93&sr=1-2&th=1'\n",
    "\n",
    "    headers = {\"User-Agent\": \"Mozilla/5.0 (Macintosh; Intel Mac OS X 10_15_7) AppleWebKit/537.36 (KHTML, like Gecko) Chrome/120.0.0.0 Safari/537.36\", \"Accept-Encoding\":\"gzip, deflate\", \"Accept\":\"text/html,application/xhtml+xml,application/xml;q=0.9,*/*;q=0.8\", \"DNT\":\"1\",\"Connection\":\"close\", \"Upgrade-Insecure-Requests\":\"1\"}\n",
    "\n",
    "    page = requests.get(URL, headers=headers)\n",
    "\n",
    "    soup1 = BeautifulSoup(page.content, \"html.parser\")\n",
    "\n",
    "    soup2 = BeautifulSoup(soup1.prettify(), \"html.parser\")\n",
    "                      \n",
    "    title = soup2.find(id='productTitle').get_text()\n",
    "\n",
    "    price = soup2.find(class_='aok-offscreen').get_text()\n",
    "    \n",
    "    price = price.strip()[1:]\n",
    "    title = title.strip()\n",
    "    \n",
    "    today = datetime.date.today()\n",
    "\n",
    "    header = ['Title', 'Price','Date']\n",
    "    data = [title,price,today]\n",
    "    \n",
    "    with open('Stanley_Amazon_Dataset.csv', 'a+', newline='', encoding='UTF8') as f:\n",
    "        writer = csv.writer(f)\n",
    "        writer.writerow(data)\n"
   ]
  },
  {
   "cell_type": "code",
   "execution_count": 32,
   "metadata": {},
   "outputs": [
    {
     "ename": "KeyboardInterrupt",
     "evalue": "",
     "output_type": "error",
     "traceback": [
      "\u001b[0;31m---------------------------------------------------------------------------\u001b[0m",
      "\u001b[0;31mKeyboardInterrupt\u001b[0m                         Traceback (most recent call last)",
      "Cell \u001b[0;32mIn[32], line 3\u001b[0m\n\u001b[1;32m      1\u001b[0m \u001b[38;5;28;01mwhile\u001b[39;00m(\u001b[38;5;28;01mTrue\u001b[39;00m):\n\u001b[1;32m      2\u001b[0m     check_price()\n\u001b[0;32m----> 3\u001b[0m     \u001b[43mtime\u001b[49m\u001b[38;5;241;43m.\u001b[39;49m\u001b[43msleep\u001b[49m\u001b[43m(\u001b[49m\u001b[38;5;241;43m5\u001b[39;49m\u001b[43m)\u001b[49m\n",
      "\u001b[0;31mKeyboardInterrupt\u001b[0m: "
     ]
    }
   ],
   "source": [
    "# Automated price checker\n",
    "\n",
    "while(True):\n",
    "    check_price()\n",
    "    time.sleep(5)"
   ]
  },
  {
   "cell_type": "code",
   "execution_count": 33,
   "metadata": {},
   "outputs": [
    {
     "name": "stdout",
     "output_type": "stream",
     "text": [
      "                                               Title  Price        Date\n",
      "0  Stanley Quencher H2.0 FlowState Stainless Stee...   45.0  2024-01-13\n",
      "1  Stanley Quencher H2.0 FlowState Stainless Stee...   45.0  2024-01-13\n",
      "2  Stanley Quencher H2.0 FlowState Stainless Stee...   45.0  2024-01-13\n",
      "3  Stanley Quencher H2.0 FlowState Stainless Stee...   45.0  2024-01-13\n",
      "4  Stanley Quencher H2.0 FlowState Stainless Stee...   45.0  2024-01-13\n"
     ]
    }
   ],
   "source": [
    "# Look at the new dataset\n",
    "\n",
    "df = pd.read_csv(r'/Users/pratik/Desktop/Projects/python_web_scraper/stanley_scraper/Stanley_Amazon_Dataset.csv')\n",
    "print(df)"
   ]
  }
 ],
 "metadata": {
  "kernelspec": {
   "display_name": "Python 3",
   "language": "python",
   "name": "python3"
  },
  "language_info": {
   "codemirror_mode": {
    "name": "ipython",
    "version": 3
   },
   "file_extension": ".py",
   "mimetype": "text/x-python",
   "name": "python",
   "nbconvert_exporter": "python",
   "pygments_lexer": "ipython3",
   "version": "3.11.6"
  }
 },
 "nbformat": 4,
 "nbformat_minor": 2
}
